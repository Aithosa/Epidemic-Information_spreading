{
 "cells": [
  {
   "cell_type": "code",
   "execution_count": 1,
   "metadata": {},
   "outputs": [],
   "source": [
    "# import networkx as nx\n",
    "import numpy as np\n",
    "import scipy.io as scio\n",
    "import matplotlib.pyplot as plt\n",
    "import seaborn as sns\n",
    "import random\n",
    "import time\n",
    "\n",
    "%matplotlib inline\n",
    "plt.style.use('ggplot')\n",
    "sns.set()"
   ]
  },
  {
   "cell_type": "code",
   "execution_count": 2,
   "metadata": {},
   "outputs": [],
   "source": [
    "def check_symmetric(a, tol=1e-8):\n",
    "    return np.allclose(a, a.T, atol=tol)"
   ]
  },
  {
   "cell_type": "code",
   "execution_count": 3,
   "metadata": {},
   "outputs": [],
   "source": [
    "# 网络数据导入为numpy数组\n",
    "dataFile_1 = './data/BA_2000_3.mat'\n",
    "data_1 = scio.loadmat(dataFile_1)\n",
    "network_scale_1 = data_1['A'].shape\n",
    "network_physical = np.array(data_1['A'])\n",
    "# network_physical = nx.Graph(data['A'])\n",
    "\n",
    "dataFile_2 = './data/BA_2000_3_add_400_edges.mat'\n",
    "data_2 = scio.loadmat(dataFile_2)\n",
    "network_scale_2  = data_2['B'].shape\n",
    "network_information = np.array(data_2['B'])\n",
    "# network_information = nx.Graph(data['A'])\n",
    "\n",
    "assert network_scale_1 == network_scale_2, \"networks\\' size don\\'t match!\"\n",
    "assert check_symmetric(network_physical), \"network_physical doesn\\'t symmetry!\"\n",
    "assert check_symmetric(network_information), \"network_information doesn\\'t symmetry!\"\n",
    "if np.sum(np.sum(network_physical, axis=0)==0):\n",
    "    print(\"The network is integral\")"
   ]
  },
  {
   "cell_type": "code",
   "execution_count": 4,
   "metadata": {},
   "outputs": [],
   "source": [
    "# 参数设置\n",
    "\n",
    "# 公共参数\n",
    "Monte_Carlo_loop = 20    # 蒙特卡洛模拟次数\n",
    "time_steps = 35    # 总时间步数\n",
    "N = network_scale_1[0]    # 网络节点数\n",
    "\n",
    "# p = random.randint(0, N-1)    # 初始始随机选出一个感染节点，四舍五入\n",
    "\n",
    "# SIS参数\n",
    "bata = 0.2    # 感染概率\n",
    "mu = 0.1    # 恢复概率\n",
    "\n",
    "Nodes_SIS = np.zeros([Monte_Carlo_loop, time_steps, N])    # N行代表时间步数，T列代表节点数，记录每步所有节点的感染状态\n",
    "# Nodes_SIS[0, p] = 1    # 第一步标出初始感染节点的位置\n",
    "\n",
    "infective_count = np.zeros([Monte_Carlo_loop, time_steps])    # 每步感染节点数,用于最终统计\n",
    "infective_count_average = np.zeros([1, time_steps])\n",
    "\n",
    "# UAU参数\n",
    "lamda = 0.4    # 传播率\n",
    "delta = 0.15    # 遗忘率\n",
    "\n",
    "Nodes_UAU = np.zeros([Monte_Carlo_loop, time_steps, N])    # 存储网络中每个节点的知情状态快照\n",
    "# Nodes_UAU[0, p] = 1    # 随机初始化一个节点使其处于感染状态，当前可感染状态节点的快照\n",
    "\n",
    "awareness_count = np.zeros([Monte_Carlo_loop, time_steps])    # 每步知晓节点数量,用于最终统计\n",
    "awareness_count_average = np.zeros([1, time_steps])\n",
    "\n",
    "# 节点活跃度\n",
    "# inactiverate = 0.4\n",
    "# activerate = 0.6\n",
    "\n",
    "inactiverate = 0\n",
    "activerate = 0\n",
    "\n",
    "Node_Active = np.ones([Monte_Carlo_loop, time_steps, N])    # 存储网络中每个节点的活跃状态快照\n",
    "inactive_count = np.zeros([Monte_Carlo_loop, time_steps])    # 每步知晓节点数量,用于最终统计\n",
    "inactive_count_average = np.zeros([1, time_steps])\n",
    "\n",
    "# 其他参数\n",
    "aplha = 0    # 信息上传率\n",
    "# aplha = 0.6    # 信息上传率\n",
    "sigma_S = 0.7    # S节点在知道信息后的防御系数/感染率衰减, 相当于减少与周围人的接触"
   ]
  },
  {
   "cell_type": "code",
   "execution_count": 5,
   "metadata": {},
   "outputs": [
    {
     "name": "stdout",
     "output_type": "stream",
     "text": [
      "loop 0 - time has passed: 4.361333608627319 \n",
      "loop 1 - time has passed: 8.960081338882446 \n",
      "loop 2 - time has passed: 13.184776067733765 \n",
      "loop 3 - time has passed: 17.559078216552734 \n",
      "loop 4 - time has passed: 21.92742085456848 \n",
      "loop 5 - time has passed: 26.2587673664093 \n",
      "loop 6 - time has passed: 27.344862461090088 \n",
      "loop 7 - time has passed: 31.55564284324646 \n",
      "loop 8 - time has passed: 36.052573442459106 \n",
      "loop 9 - time has passed: 40.24041390419006 \n",
      "loop 10 - time has passed: 44.47504663467407 \n",
      "loop 11 - time has passed: 48.71670198440552 \n",
      "loop 12 - time has passed: 53.11094951629639 \n",
      "loop 13 - time has passed: 57.534120321273804 \n",
      "loop 14 - time has passed: 61.8406445980072 \n",
      "loop 15 - time has passed: 66.2817234992981 \n",
      "loop 16 - time has passed: 71.23850679397583 \n",
      "loop 17 - time has passed: 76.24810791015625 \n",
      "loop 18 - time has passed: 80.42393898963928 \n",
      "loop 19 - time has passed: 84.61169862747192 \n"
     ]
    }
   ],
   "source": [
    "time_start = time.time()\n",
    "\n",
    "for loop in range(Monte_Carlo_loop):\n",
    "\n",
    "    p = random.randint(0, N-1)    # 初始始随机选出一个感染节点，四舍五入\n",
    "\n",
    "    Nodes_SIS[loop, 0, p] = 1    # 第一步标出初始感染节点的位置\n",
    "    Nodes_UAU[loop, 0, p] = 1    # 随机初始化一个节点使其处于感染状态，当前可感染状态节点的快照\n",
    "\n",
    "    # 初始节点依概率变得不活跃\n",
    "    p0 = np.random.rand(1)\n",
    "    if p0 <= inactiverate:\n",
    "        Node_Active[loop, 0, p] = 0    # 初始节点不活跃\n",
    "\n",
    "    for t in range(time_steps-1):\n",
    "\n",
    "        # UAU演化\n",
    "\n",
    "        awareness_nodes = np.where((Nodes_UAU[loop, t, :] == 1))[0]    # 找到当前有传播力的节点的位置\n",
    "\n",
    "        # UAU传播过程\n",
    "        for a in awareness_nodes:\n",
    "\n",
    "            neighbor_total = np.where(network_information[a, :] == 1)[0]    # 找到第i个有传染力节点的邻居        \n",
    "            neighbor_listener = np.setdiff1d(neighbor_total, awareness_nodes)    # 从neighbor_total去除awareness_nodes的节点，排除知情邻居\n",
    "\n",
    "            # 让节点依次感染邻居(这种方式和SIS的的感染方式效果相同？)\n",
    "            for j in neighbor_listener:\n",
    "                p1 = np.random.rand(1)\n",
    "                if p1 <= lamda:\n",
    "                    Nodes_UAU[loop, t+1, j] = 1    # 这个节点已知\n",
    "\n",
    "                    # 成功感染的节点下一时刻依概率变得不活跃\n",
    "                    p3 = np.random.rand(1)\n",
    "                    if p3 <= inactiverate:\n",
    "                        Node_Active[loop, t+1, j] = 0    # 这个节点不活跃\n",
    "\n",
    "            # UAU遗忘过程\n",
    "            p2 = np.random.rand(1)\n",
    "            if p2 <= delta:\n",
    "                Nodes_UAU[loop, t+1, a] = 0    # 这个节点遗忘\n",
    "\n",
    "                # 节点依概率变得活跃\n",
    "                p4 = np.random.rand(1)\n",
    "                if p4 <= inactiverate:\n",
    "                    Node_Active[loop, t+1, a] = 1    # 这个节点重新活跃\n",
    "                else:\n",
    "                    Node_Active[loop, t+1, a] = 0\n",
    "            else:\n",
    "                Nodes_UAU[loop, t+1, a] = 1\n",
    "                if Node_Active[loop, t, a] == 0:\n",
    "                    Node_Active[loop, t+1, a] = 0\n",
    "                \n",
    "\n",
    "\n",
    "        # SIS演化\n",
    "        for i in range(N):\n",
    "\n",
    "            # 0代表易感(S)，如果节点i健康且活跃，就查找其I状态的邻居（活跃节点处理方式不变）\n",
    "            if ((Nodes_SIS[loop, t, i] == 0) and (Node_Active[loop, t, i] == 1)):\n",
    "\n",
    "                neighbor_total = np.where((network_physical[i, :] == 1))[0]    # 查找其邻居\n",
    "                infective_nodes = np.where((Nodes_SIS[loop, t, :] == 1))[0]    # 查找感染节点\n",
    "                neighbor_infective = np.intersect1d(infective_nodes, neighbor_total)    # 取交集，真正可以感染它的邻居\n",
    "                Num_neighbor_infective = len(neighbor_infective)    # 统计\n",
    "\n",
    "                infect_rate_current = bata    # 当前临时感染率\n",
    "                rate_temp = 1    # 用于计算感染率\n",
    "\n",
    "                # SIS感染率改变规则\n",
    "                if Nodes_UAU[loop, t, i] == 0:\n",
    "                    rate_temp = (1 - infect_rate_current) ** Num_neighbor_infective                 \n",
    "\n",
    "                elif Nodes_UAU[loop, t, i] == 1:\n",
    "                    infect_rate_current = infect_rate_current * sigma_S    # 当前临时感染率\n",
    "                    rate_temp = (1 - infect_rate_current) ** Num_neighbor_infective\n",
    "\n",
    "\n",
    "                # SIS感染过程\n",
    "                v1 = 1 - rate_temp    # 这是最终计算的感染率？\n",
    "                x1 = np.random.rand(1)\n",
    "                if x1 <= v1:\n",
    "                    Nodes_SIS[loop, t+1, i] = 1\n",
    "\n",
    "                    # 感染节点信息上传(知晓)\n",
    "                    x2 = np.random.rand(1)\n",
    "                    if  x2 <= aplha:\n",
    "                        Nodes_UAU[loop, t+1, i] = 1\n",
    "\n",
    "                        # 成功感染的节点下一时刻依概率变得不活跃\n",
    "                        x4 = np.random.rand(1)\n",
    "                        if x4 <= inactiverate:\n",
    "                            Node_Active[loop, t+1, i] = 0    # 这个节点不活跃\n",
    "\n",
    "            # 0代表易感(S)，如果节点i健康且不活跃，就查找其I状态的邻居\n",
    "            elif ((Nodes_SIS[loop, t, i] == 0) and (Node_Active[loop, t, i] == 0)):\n",
    "\n",
    "                neighbor_total = np.where((network_physical[i, :] == 1))[0]    # 查找其邻居\n",
    "\n",
    "                infective_nodes = np.where((Nodes_SIS[loop, t, :] == 1))[0]    # 感染节点\n",
    "                active_nodes = np.where((Node_Active[loop, t, :] == 1))[0]    # 活跃节点\n",
    "\n",
    "                neighbor_infective = np.intersect1d(infective_nodes, neighbor_total)    # 取交集，真正可以感染它的邻居\n",
    "                neighbor_infective_active = np.intersect1d(neighbor_infective, active_nodes)    # 取交集，真正可以感染它的活跃邻居\n",
    "\n",
    "                Num_neighbor_infective_active = len(neighbor_infective_active)    # 统计\n",
    "\n",
    "                infect_rate_current = bata    # 当前临时感染率\n",
    "                rate_temp = 1    # 用于计算感染率\n",
    "\n",
    "                # SIS感染率改变规则\n",
    "                if Nodes_UAU[loop, t, i] == 0:\n",
    "                    rate_temp = (1 - infect_rate_current) ** Num_neighbor_infective_active                 \n",
    "\n",
    "                elif Nodes_UAU[loop, t, i] == 1:\n",
    "                    infect_rate_current = infect_rate_current * sigma_S    # 当前临时感染率\n",
    "                    rate_temp = (1 - infect_rate_current) ** Num_neighbor_infective_active\n",
    "\n",
    "\n",
    "                # SIS感染过程\n",
    "                v1 = 1 - rate_temp    # 这是最终计算的感染率？\n",
    "                x1 = np.random.rand(1)\n",
    "                if x1 <= v1:\n",
    "                    Nodes_SIS[loop, t+1, i] = 1\n",
    "\n",
    "                    # 感染节点信息上传(知晓)\n",
    "                    x2 = np.random.rand(1)\n",
    "                    if  x2 <= aplha:\n",
    "                        Nodes_UAU[loop, t+1, i] = 1\n",
    "                    \n",
    "                        # 成功感染的节点下一时刻依概率变得不活跃\n",
    "                        x4 = np.random.rand(1)\n",
    "                        if x4 <= inactiverate:\n",
    "                            Node_Active[loop, t+1, i] = 0    # 这个节点不活跃\n",
    "\n",
    "            # SIS康复过程\n",
    "            elif Nodes_SIS[loop, t, i] == 1:\n",
    "\n",
    "                recover_rate_current = mu\n",
    "                x3 = np.random.rand(1) \n",
    "                if x3 <= recover_rate_current:\n",
    "                    Nodes_SIS[loop, t+1, i] = 0\n",
    "                else:\n",
    "                    Nodes_SIS[loop, t+1, i] = 1\n",
    "\n",
    "            else:\n",
    "                print(\"There is an else condition in SIS!\")\n",
    "\n",
    "    print(\"loop {} - time has passed: {} \".format(loop, time.time()-time_start))"
   ]
  },
  {
   "cell_type": "code",
   "execution_count": 6,
   "metadata": {},
   "outputs": [],
   "source": [
    "# datasave = './results/result.mat'\n",
    "# scio.savemat(datasave, {'NodeSIS':Nodes_SIS, 'NodeUAU':Nodes_UAU, 'Node_Active':Node_Active})\n",
    "\n",
    "# print(\"Nodes_SIS: \", Nodes_SIS)\n",
    "# print(\"Nodes_UAU: \", Nodes_UAU)"
   ]
  },
  {
   "cell_type": "code",
   "execution_count": 7,
   "metadata": {},
   "outputs": [],
   "source": [
    "# 处理数据\n",
    "for loop_ in range(Monte_Carlo_loop):\n",
    "    infective_count[loop_,:] = np.sum(Nodes_SIS[loop_,:,:], axis=1)\n",
    "    awareness_count[loop_,:] = np.sum(Nodes_UAU[loop_,:,:], axis=1)\n",
    "    inactive_count[loop_,:] = np.sum((1-Node_Active[loop_,:,:]), axis=1)\n",
    "    \n",
    "infective_count_average = np.mean(infective_count, axis=0)\n",
    "awareness_count_average = np.mean(awareness_count, axis=0)\n",
    "inactive_count_average = np.mean(inactive_count, axis=0)\n",
    "\n",
    "assert infective_count_average.shape == (time_steps,), \"infective_count_average\\'s size don\\'t match!\"\n",
    "assert awareness_count_average.shape == (time_steps,), \"awareness_count_average\\'s size don\\'t match!\"\n",
    "assert inactive_count_average.shape == (time_steps,), \"inactive_count_average\\'s size don\\'t match!\"\n",
    "\n",
    "# print(\"infective_count_average: \", infective_count_average)\n",
    "# print(\"awareness_count_average: \", awareness_count_average)\n",
    "\n",
    "## 规模参照\n",
    "# Nodes_SIS = np.zeros([Monte_Carlo_loop, time_steps, N])\n",
    "# infective_count = np.zeros([Monte_Carlo_loop, time_steps])\n",
    "# infective_count_average = np.zeros([1, time_steps])"
   ]
  },
  {
   "cell_type": "code",
   "execution_count": 8,
   "metadata": {},
   "outputs": [
    {
     "data": {
      "text/plain": [
       "[<matplotlib.lines.Line2D at 0x1a58207beb8>]"
      ]
     },
     "execution_count": 8,
     "metadata": {},
     "output_type": "execute_result"
    },
    {
     "data": {
      "image/png": "[encoded data removed]",
      "text/plain": [
       "<Figure size 432x288 with 1 Axes>"
      ]
     },
     "metadata": {
      "needs_background": "light"
     },
     "output_type": "display_data"
    }
   ],
   "source": [
    "# 不引入活跃\n",
    "plt.plot(infective_count_average/N, color='blue', label='SIS')\n",
    "plt.plot(awareness_count_average/N, color='green', label='UAU')\n",
    "plt.plot(inactive_count_average/N, color='red', label='inactive')"
   ]
  },
  {
   "cell_type": "code",
   "execution_count": 10,
   "metadata": {
    "scrolled": true
   },
   "outputs": [
    {
     "data": {
      "text/plain": [
       "[<matplotlib.lines.Line2D at 0x2e767d73240>]"
      ]
     },
     "execution_count": 10,
     "metadata": {},
     "output_type": "execute_result"
    },
    {
     "data": {
      "image/png": "[encoded data removed]",
      "text/plain": [
       "<Figure size 432x288 with 1 Axes>"
      ]
     },
     "metadata": {
      "needs_background": "light"
     },
     "output_type": "display_data"
    }
   ],
   "source": [
    "# 引入活跃\n",
    "plt.plot(infective_count_average/N, color='blue', label='SIS')\n",
    "plt.plot(awareness_count_average/N, color='green', label='UAU')\n",
    "plt.plot(inactive_count_average/N, color='red', label='inactive')"
   ]
  },
  {
   "cell_type": "code",
   "execution_count": null,
   "metadata": {},
   "outputs": [],
   "source": [
    "# 不活跃节点比例稳定以后始终比知情节点固定低一点\n",
    "\n",
    "# 一种原因：接触层的信息上传会使得知情节点比正常演化多一点，并且来不及在当前时间更新为不活跃状态(已经证实)\n",
    "\n",
    "# 已修复"
   ]
  },
  {
   "cell_type": "code",
   "execution_count": null,
   "metadata": {},
   "outputs": [],
   "source": []
  },
  {
   "cell_type": "code",
   "execution_count": null,
   "metadata": {},
   "outputs": [],
   "source": [
    "import time\n",
    "\n",
    "print (\"time.time(): %f \" %time.time())\n",
    "\n",
    "time_start=time.time()\n",
    "time.sleep(1)\n",
    "time_end=time.time()\n",
    "print('totally cost',time_end-time_start)"
   ]
  },
  {
   "cell_type": "code",
   "execution_count": null,
   "metadata": {},
   "outputs": [],
   "source": [
    "a = np.array([[1,2],[3,4],[5,6]])\n",
    "datasave = './results/result.mat'\n",
    "scio.savemat(datasave, {'A':a})\n",
    "data_1 = scio.loadmat(datasave)"
   ]
  }
 ],
 "metadata": {
  "kernelspec": {
   "display_name": "Python 3",
   "language": "python",
   "name": "python3"
  },
  "language_info": {
   "codemirror_mode": {
    "name": "ipython",
    "version": 3
   },
   "file_extension": ".py",
   "mimetype": "text/x-python",
   "name": "python",
   "nbconvert_exporter": "python",
   "pygments_lexer": "ipython3",
   "version": "3.6.8"
  }
 },
 "nbformat": 4,
 "nbformat_minor": 2
}
