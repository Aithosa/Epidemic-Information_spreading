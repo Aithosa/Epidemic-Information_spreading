{
 "cells": [
  {
   "cell_type": "markdown",
   "metadata": {},
   "source": [
    "## Network_Analysis"
   ]
  },
  {
   "cell_type": "code",
   "execution_count": 1,
   "metadata": {},
   "outputs": [],
   "source": [
    "import networkx as nx\n",
    "import numpy as np\n",
    "import pandas as pd\n",
    "import scipy.io as scio  \n",
    "import matplotlib.pyplot as plt\n",
    "import seaborn as sns\n",
    "\n",
    "import sympy as sp   #符号运算包\n",
    "from sympy import exp\n",
    "from scipy.integrate import odeint  #odeint是求解微分方程的函数\n",
    "\n",
    "%matplotlib inline\n",
    "plt.style.use('ggplot')"
   ]
  },
  {
   "cell_type": "code",
   "execution_count": 6,
   "metadata": {},
   "outputs": [
    {
     "data": {
      "text/plain": [
       "(2000, 2000)"
      ]
     },
     "execution_count": 6,
     "metadata": {},
     "output_type": "execute_result"
    }
   ],
   "source": [
    "dataFile = '../Matlab/data/BA_2000_3.mat'  \n",
    "data = scio.loadmat(dataFile)\n",
    "data['A'].shape"
   ]
  },
  {
   "cell_type": "code",
   "execution_count": 7,
   "metadata": {},
   "outputs": [],
   "source": [
    "BA = nx.Graph(data['A'])"
   ]
  },
  {
   "cell_type": "code",
   "execution_count": 13,
   "metadata": {},
   "outputs": [],
   "source": [
    "# 可视化\n",
    "# pos=nx.spring_layout(BA)\n",
    "# nx.draw(BA,pos,with_labels=True,node_size=150)\n",
    "# plt.show()"
   ]
  },
  {
   "cell_type": "code",
   "execution_count": 12,
   "metadata": {},
   "outputs": [
    {
     "data": {
      "text/plain": [
       "3.7671390695347675"
      ]
     },
     "execution_count": 12,
     "metadata": {},
     "output_type": "execute_result"
    }
   ],
   "source": [
    "nx.average_shortest_path_length(BA)"
   ]
  },
  {
   "cell_type": "code",
   "execution_count": 20,
   "metadata": {},
   "outputs": [],
   "source": [
    "#计算图的平均度\n",
    "def average_degree(G):\n",
    "    dict_vertex_degree = G.degree()    #提取出所有的度\n",
    "    df_vertex_degree = pd.DataFrame(list(dict(dict_vertex_degree).items()), columns=['vertex','degree'])    #转换为dataframe\n",
    "    aver_degree = df_vertex_degree['degree'].mean()    #求平均\n",
    "    k_2 = df_vertex_degree['degree']**2\n",
    "    aver_degree_square = k_2.mean()\n",
    "    return aver_degree, aver_degree_square"
   ]
  },
  {
   "cell_type": "code",
   "execution_count": 21,
   "metadata": {},
   "outputs": [
    {
     "name": "stdout",
     "output_type": "stream",
     "text": [
      "<k>： 5.991\n",
      "<k^2>： 87.91\n"
     ]
    }
   ],
   "source": [
    "print(\"<k>：\",average_degree(BA)[0])\n",
    "print(\"<k^2>：\",average_degree(BA)[1])"
   ]
  },
  {
   "cell_type": "code",
   "execution_count": 22,
   "metadata": {},
   "outputs": [
    {
     "name": "stdout",
     "output_type": "stream",
     "text": [
      "lambd_c =  0.06814924354453418\n"
     ]
    }
   ],
   "source": [
    "print(\"lambd_c = \",average_degree(BA)[0]/average_degree(BA)[1])"
   ]
  }
 ],
 "metadata": {
  "kernelspec": {
   "display_name": "Python 3",
   "language": "python",
   "name": "python3"
  },
  "language_info": {
   "codemirror_mode": {
    "name": "ipython",
    "version": 3
   },
   "file_extension": ".py",
   "mimetype": "text/x-python",
   "name": "python",
   "nbconvert_exporter": "python",
   "pygments_lexer": "ipython3",
   "version": "3.6.5"
  }
 },
 "nbformat": 4,
 "nbformat_minor": 2
}
