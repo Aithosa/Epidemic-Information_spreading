{
 "cells": [
  {
   "cell_type": "code",
   "execution_count": 1,
   "metadata": {},
   "outputs": [],
   "source": [
    "import numpy as np\n",
    "import scipy.io as scio\n",
    "import networkx as nx\n",
    "import matplotlib.pyplot as plt\n",
    "import random\n",
    "import time\n",
    "\n",
    "%matplotlib inline"
   ]
  },
  {
   "cell_type": "code",
   "execution_count": 2,
   "metadata": {},
   "outputs": [],
   "source": [
    "# BA = nx.random_graphs.barabasi_albert_graph(2000, 3)\n",
    "# BA_2000_3 = nx.to_numpy_matrix(BA)\n",
    "# network_physical = BA_2000_3\n",
    "# network_scale_1 = network_physical.shape"
   ]
  },
  {
   "cell_type": "code",
   "execution_count": 3,
   "metadata": {},
   "outputs": [],
   "source": [
    "# np.sum(np.sum(network_physical, axis=0)==0)"
   ]
  },
  {
   "cell_type": "code",
   "execution_count": 4,
   "metadata": {},
   "outputs": [],
   "source": [
    "# np.sum(np.sum(network_physical, axis=0))"
   ]
  },
  {
   "cell_type": "code",
   "execution_count": 5,
   "metadata": {},
   "outputs": [],
   "source": [
    "def check_symmetric(a, tol=1e-8):\n",
    "    return np.allclose(a, a.T, atol=tol)"
   ]
  },
  {
   "cell_type": "code",
   "execution_count": 6,
   "metadata": {},
   "outputs": [
    {
     "data": {
      "text/plain": [
       "0"
      ]
     },
     "execution_count": 6,
     "metadata": {},
     "output_type": "execute_result"
    }
   ],
   "source": [
    "# 网络数据导入为numpy数组\n",
    "dataFile_1 = '../../Matlab/data/BA_2000_3.mat'\n",
    "data_1 = scio.loadmat(dataFile_1)\n",
    "network_scale_1 = data_1['A'].shape\n",
    "network_physical = np.array(data_1['A'])\n",
    "\n",
    "assert check_symmetric(network_physical), \"network doesn\\'t symmetry!\"\n",
    "np.sum(np.sum(network_physical, axis=0)==0)"
   ]
  },
  {
   "cell_type": "code",
   "execution_count": 7,
   "metadata": {},
   "outputs": [],
   "source": [
    "# 参数设置\n",
    "\n",
    "# 公共参数\n",
    "time_steps = 50    # 总的时间步数\n",
    "N = network_scale_1[0]    # 网络节点数\n",
    "p = random.randint(0, N-1)    # 初始始随机选出一个感染节点，四舍五入\n",
    "\n",
    "# SIR参数\n",
    "bata = 0.3    # 感染概率\n",
    "mu = 0.5    # 免疫概率\n",
    "\n",
    "Nodes_SIR = np.zeros([time_steps, N])    # N行代表时间步数，T列代表节点数，记录每步所有节点的状态\n",
    "\n",
    "infective_count = np.zeros([time_steps])    # 每步感染节点数,用于最终统计\n",
    "immune_count = np.zeros([time_steps])    # 每步免疫节点数,用于最终统计\n",
    "s_count = np.zeros([time_steps])    # 每步免疫节点数,用于最终统计\n",
    "\n",
    "Nodes_SIR[0, p] = 1    # 第一步标出初始感染节点的位置"
   ]
  },
  {
   "cell_type": "code",
   "execution_count": 8,
   "metadata": {},
   "outputs": [],
   "source": [
    "for t in range(time_steps-1):\n",
    "\n",
    "    # SIR演化\n",
    "    for i in range(N):\n",
    "\n",
    "        if Nodes_SIR[t, i] == 0:    # 0代表易感(S)，如果节点i健康，就看他有几个被感染的的邻居\n",
    "\n",
    "            neighbor_total = np.where((network_physical[i, :] == 1))[0]    # 查找其邻居\n",
    "            infective_nodes = np.where((Nodes_SIR[t, :] == 1))[0]\n",
    "            neighbor_infective = np.intersect1d(infective_nodes, neighbor_total)    # 取交集，真正可以感染它的邻居\n",
    "            Num_neighbor_infective = len(neighbor_infective)    # 统计\n",
    "\n",
    "            # SIR感染率改变规则\n",
    "            rate_temp = (1 - bata) ** Num_neighbor_infective\n",
    "\n",
    "            # SIR感染过程\n",
    "            v1 = 1 - rate_temp    # 这是最终计算的感染率\n",
    "            x1 = np.random.rand(1)\n",
    "            if x1 <= v1:\n",
    "                Nodes_SIR[t+1, i] = 1\n",
    "\n",
    "        # SIR免疫过程\n",
    "        elif Nodes_SIR[t, i] == 1:\n",
    "\n",
    "            x3 = np.random.rand(1) \n",
    "            if x3 <= mu:\n",
    "                Nodes_SIR[t+1, i] = 2\n",
    "            else:\n",
    "                Nodes_SIR[t+1, i] = 1\n",
    "\n",
    "        elif Nodes_SIR[t, i] == 2:\n",
    "            Nodes_SIR[t+1, i] = 2\n",
    "\n",
    "        else:\n",
    "            print(\"There is an else in SIR!\")"
   ]
  },
  {
   "cell_type": "code",
   "execution_count": 9,
   "metadata": {},
   "outputs": [
    {
     "data": {
      "text/plain": [
       "[<matplotlib.lines.Line2D at 0x1782d739470>]"
      ]
     },
     "execution_count": 9,
     "metadata": {},
     "output_type": "execute_result"
    },
    {
     "data": {
      "image/png": "[encoded data removed]",
      "text/plain": [
       "<Figure size 432x288 with 1 Axes>"
      ]
     },
     "metadata": {
      "needs_background": "light"
     },
     "output_type": "display_data"
    }
   ],
   "source": [
    "# 处理数据\n",
    "for k in range(time_steps):\n",
    "    infective_count[k] = np.sum(Nodes_SIR[k, :] == 1)\n",
    "    immune_count[k] = np.sum(Nodes_SIR[k, :] == 2)\n",
    "    s_count[k] = np.sum(Nodes_SIR[k, :] == 0)\n",
    "    if (infective_count[k] + immune_count[k] + s_count[k] != N):\n",
    "        print(\"sonethong wrong when counting...\")\n",
    "\n",
    "plt.plot(infective_count/N, label='SIR-I')\n",
    "plt.plot(immune_count/N, label='SIR-R')\n",
    "plt.plot(s_count/N, label='SIR-S')"
   ]
  },
  {
   "cell_type": "code",
   "execution_count": null,
   "metadata": {},
   "outputs": [],
   "source": [
    "# 加上蒙特卡洛"
   ]
  },
  {
   "cell_type": "code",
   "execution_count": null,
   "metadata": {},
   "outputs": [],
   "source": [
    "# 参数设置\n",
    "\n",
    "# 公共参数\n",
    "Monte_Carlo_loop = 20    # 蒙特卡洛模拟次数\n",
    "time_steps = 50    # 总的时间步数\n",
    "N = network_scale_1[0]    # 网络节点数\n",
    "p = random.randint(0, N-1)    # 初始始随机选出一个感染节点，四舍五入\n",
    "\n",
    "# SIR参数\n",
    "bata = 0.3    # 感染概率\n",
    "mu = 0.5    # 免疫概率\n",
    "\n",
    "Nodes_SIR = np.zeros([Monte_Carlo_loop, time_steps, N])    # N行代表时间步数，T列代表节点数，记录每步所有节点的状态\n",
    "\n",
    "infective_count = np.zeros([Monte_Carlo_loop, time_steps])    # 每步感染节点数,用于最终统计\n",
    "infective_count_average = np.zeros([1, time_steps])\n",
    "\n",
    "immune_count = np.zeros([Monte_Carlo_loop, time_steps])    # 每步免疫节点数,用于最终统计\n",
    "immune_count_average = np.zeros([1, time_steps])"
   ]
  },
  {
   "cell_type": "code",
   "execution_count": null,
   "metadata": {},
   "outputs": [],
   "source": [
    "time_start = time.time()\n",
    "\n",
    "for loop in range(Monte_Carlo_loop):\n",
    "    \n",
    "    Nodes_SIR[loop, 0, p] = 1    # 第一步标出初始感染节点的位置\n",
    "\n",
    "    for t in range(time_steps-1):\n",
    "\n",
    "        # SIR演化\n",
    "        for i in range(N):\n",
    "\n",
    "            if Nodes_SIR[loop, t, i] == 0:    # 0代表易感(S)，如果上一步节点i健康，就看他的邻居有没有被感染的\n",
    "\n",
    "                neighbor_total = np.where((network_physical[i, :] == 1))[0]    # 查找其邻居\n",
    "                infective_nodes = np.where((Nodes_SIR[loop, t, :] == 1))[0]\n",
    "                neighbor_infective = np.intersect1d(infective_nodes, neighbor_total)    # 取交集，真正可以感染它的邻居\n",
    "                Num_neighbor_infective = len(neighbor_infective)    # 统计\n",
    "\n",
    "                # SIR感染率改变规则\n",
    "                rate_temp = (1 - bata) ** Num_neighbor_infective\n",
    "\n",
    "                # SIR感染过程\n",
    "                v1 = 1 - rate_temp    # 这是最终计算的感染率？\n",
    "                x1 = np.random.rand(1)\n",
    "                if x1 <= v1:\n",
    "                    Nodes_SIR[loop, t+1, i] = 1\n",
    "\n",
    "            # SIR康复过程\n",
    "            elif Nodes_SIR[loop, t, i] == 1:\n",
    "\n",
    "                x3 = np.random.rand(1) \n",
    "                if x3 <= mu:\n",
    "                    Nodes_SIR[loop, t+1, i] = 2\n",
    "                else:\n",
    "                    Nodes_SIR[loop, t+1, i] = 1\n",
    "            \n",
    "            elif Nodes_SIR[loop, t, i] == 2:\n",
    "                Nodes_SIR[loop, t+1, i] = 2\n",
    "            \n",
    "            else:\n",
    "                print(\"There is a else condition happened.\")\n",
    "\n",
    "    print(\"loop {} - time has passed: {} \".format(loop, time.time()-time_start))"
   ]
  },
  {
   "cell_type": "code",
   "execution_count": null,
   "metadata": {},
   "outputs": [],
   "source": [
    "# 处理数据\n",
    "for i in range(Monte_Carlo_loop):\n",
    "    for j in range(time_steps):\n",
    "        infective_count[i,j] = np.sum(Nodes_SIR[i, j, :] == 1)\n",
    "        immune_count[i,j] = np.sum(Nodes_SIR[i, j, :] == 2)\n",
    "infective_count_average = np.mean(infective_count, axis=0)\n",
    "immune_count_average = np.mean(immune_count, axis=0)\n",
    "\n",
    "plt.plot(infective_count_average/N, label='SIR-I')\n",
    "plt.plot(immune_count_average/N, label='SIR-R')"
   ]
  }
 ],
 "metadata": {
  "kernelspec": {
   "display_name": "Python 3",
   "language": "python",
   "name": "python3"
  },
  "language_info": {
   "codemirror_mode": {
    "name": "ipython",
    "version": 3
   },
   "file_extension": ".py",
   "mimetype": "text/x-python",
   "name": "python",
   "nbconvert_exporter": "python",
   "pygments_lexer": "ipython3",
   "version": "3.6.8"
  }
 },
 "nbformat": 4,
 "nbformat_minor": 2
}
