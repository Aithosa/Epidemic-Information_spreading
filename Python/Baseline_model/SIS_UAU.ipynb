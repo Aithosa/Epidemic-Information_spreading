{
 "cells": [
  {
   "cell_type": "code",
   "execution_count": 2,
   "metadata": {},
   "outputs": [],
   "source": [
    "# import networkx as nx\n",
    "import numpy as np\n",
    "import scipy.io as scio\n",
    "import matplotlib.pyplot as plt\n",
    "import random\n",
    "import time\n",
    "\n",
    "%matplotlib inline"
   ]
  },
  {
   "cell_type": "code",
   "execution_count": 3,
   "metadata": {},
   "outputs": [],
   "source": [
    "# 网络数据导入为numpy数组\n",
    "dataFile_1 = '../Matlab/data/BA_2000_3.mat'\n",
    "data_1 = scio.loadmat(dataFile_1)\n",
    "network_scale_1 = data_1['A'].shape\n",
    "network_physical = np.array(data_1['A'])\n",
    "# network_physical = nx.Graph(data['A'])\n",
    "\n",
    "dataFile_2 = '../Matlab/data/BA_2000_3_add_400_edges.mat'\n",
    "data_2 = scio.loadmat(dataFile_2)\n",
    "network_scale_2  = data_2['B'].shape\n",
    "network_information = np.array(data_2['B'])\n",
    "# network_information = nx.Graph(data['A'])\n",
    "\n",
    "assert network_scale_1 == network_scale_2, \"networks\\' size don\\'t match!\""
   ]
  },
  {
   "cell_type": "code",
   "execution_count": 4,
   "metadata": {},
   "outputs": [],
   "source": [
    "# 参数设置\n",
    "\n",
    "# 公共参数\n",
    "Monte_Carlo_loop = 50    # 蒙特卡洛模拟次数\n",
    "time_steps = 50    # 总的时间步数\n",
    "N = network_scale_1[0]    # 网络节点数\n",
    "p = random.randint(0, N-1)    # 初始始随机选出一个感染节点，四舍五入\n",
    "\n",
    "# SIS参数\n",
    "bata = 0.2    # 感染概率\n",
    "mu = 0.1    # 恢复概率\n",
    "\n",
    "Nodes_SIS = np.zeros([Monte_Carlo_loop, time_steps, N])    # N行代表时间步数，T列代表节点数，记录每步所有节点的状态\n",
    "# Nodes_SIS[0, p] = 1    # 第一步标出初始感染节点的位置\n",
    "\n",
    "infective_count = np.zeros([Monte_Carlo_loop, time_steps])    # 每步感染节点数,用于最终统计\n",
    "infective_count_average = np.zeros([1, time_steps])\n",
    "\n",
    "# UAU参数\n",
    "lamda = 0.4    # 传播率\n",
    "delta = 0.15    # 遗忘率\n",
    "\n",
    "Nodes_UAU = np.zeros([Monte_Carlo_loop, time_steps, N])    # 存储网络中每个节点的状态快照\n",
    "# Nodes_UAU[0, p] = 1    # 随机初始化一个节点使其处于感染状态，当前可感染状态节点的快照\n",
    "\n",
    "awareness_count = np.zeros([Monte_Carlo_loop, time_steps])    # 每步知晓节点数量,用于最终统计\n",
    "awareness_count_average = np.zeros([1, time_steps])\n",
    "\n",
    "# 其他参数\n",
    "aplha = 0.6    # 信息上传率\n",
    "sigma_S = 0.7    # S节点在知道信息后的防御系数/感染率衰减, 相当于减少与周围人的接触"
   ]
  },
  {
   "cell_type": "code",
   "execution_count": 5,
   "metadata": {},
   "outputs": [
    {
     "name": "stdout",
     "output_type": "stream",
     "text": [
      "loop 0 - time has passed: 11.363603591918945 \n",
      "loop 1 - time has passed: 21.45760154724121 \n",
      "loop 2 - time has passed: 32.794275760650635 \n",
      "loop 3 - time has passed: 44.15389132499695 \n",
      "loop 4 - time has passed: 54.90919589996338 \n",
      "loop 5 - time has passed: 65.79499578475952 \n",
      "loop 6 - time has passed: 76.32287049293518 \n",
      "loop 7 - time has passed: 87.83678102493286 \n",
      "loop 8 - time has passed: 99.23154926300049 \n",
      "loop 9 - time has passed: 110.44555020332336 \n",
      "loop 10 - time has passed: 116.45451426506042 \n",
      "loop 11 - time has passed: 127.49394178390503 \n",
      "loop 12 - time has passed: 137.59099555015564 \n",
      "loop 13 - time has passed: 149.21986603736877 \n",
      "loop 14 - time has passed: 159.78456354141235 \n",
      "loop 15 - time has passed: 169.77587485313416 \n",
      "loop 16 - time has passed: 180.5432653427124 \n",
      "loop 17 - time has passed: 192.22378754615784 \n",
      "loop 18 - time has passed: 204.20174264907837 \n",
      "loop 19 - time has passed: 214.28377318382263 \n",
      "loop 20 - time has passed: 219.80799317359924 \n",
      "loop 21 - time has passed: 230.76568794250488 \n",
      "loop 22 - time has passed: 241.8251349925995 \n",
      "loop 23 - time has passed: 247.50394940376282 \n",
      "loop 24 - time has passed: 257.41638922691345 \n",
      "loop 25 - time has passed: 263.62179160118103 \n",
      "loop 26 - time has passed: 274.18457531929016 \n",
      "loop 27 - time has passed: 284.6509666442871 \n",
      "loop 28 - time has passed: 294.2043719291687 \n",
      "loop 29 - time has passed: 304.04504799842834 \n",
      "loop 30 - time has passed: 315.5293674468994 \n",
      "loop 31 - time has passed: 325.55949425697327 \n",
      "loop 32 - time has passed: 336.435444355011 \n",
      "loop 33 - time has passed: 347.63049507141113 \n",
      "loop 34 - time has passed: 358.88534450531006 \n",
      "loop 35 - time has passed: 368.92916893959045 \n",
      "loop 36 - time has passed: 380.24457812309265 \n",
      "loop 37 - time has passed: 390.90174174308777 \n",
      "loop 38 - time has passed: 403.2446827888489 \n",
      "loop 39 - time has passed: 413.6917724609375 \n",
      "loop 40 - time has passed: 423.5005371570587 \n",
      "loop 41 - time has passed: 435.63902473449707 \n",
      "loop 42 - time has passed: 447.80352234840393 \n",
      "loop 43 - time has passed: 458.06905937194824 \n",
      "loop 44 - time has passed: 469.6859440803528 \n",
      "loop 45 - time has passed: 479.55957293510437 \n",
      "loop 46 - time has passed: 490.718679189682 \n",
      "loop 47 - time has passed: 501.5856456756592 \n",
      "loop 48 - time has passed: 513.6214141845703 \n",
      "loop 49 - time has passed: 523.5807735919952 \n"
     ]
    }
   ],
   "source": [
    "time_start = time.time()\n",
    "\n",
    "for loop in range(Monte_Carlo_loop):\n",
    "    \n",
    "    Nodes_SIS[loop, 0, p] = 1    # 第一步标出初始感染节点的位置\n",
    "    Nodes_UAU[loop, 0, p] = 1    # 随机初始化一个节点使其处于感染状态，当前可感染状态节点的快照\n",
    "\n",
    "    for t in range(time_steps-1):\n",
    "\n",
    "        # UAU演化\n",
    "\n",
    "        # 找到可以传播的活跃节点\n",
    "        active_node = np.where((Nodes_UAU[loop, t, :] == 1))[0]    # 找到当前有传播力的节点的位置\n",
    "        \n",
    "#         awareness_count[loop] = len(active_node)    # 统计这一刻有传播力节点的数量\n",
    "\n",
    "        # UAU传播过程\n",
    "        for i in active_node:\n",
    "\n",
    "            spread_rate_current = lamda    # 这个暂时放这里，看能不能省掉\n",
    "            forget_rate_current = delta\n",
    "\n",
    "            # UAU传播过程\n",
    "            neighbor_total = np.where(network_information[i, :] == 1)[0]    # 找到第i个有传染力节点的邻居        \n",
    "            neighbor_listener = np.setdiff1d(neighbor_total, active_node)    # 从neighbor_total去除active_node的节点，应是排除已经感染的邻?\n",
    "\n",
    "            for j in neighbor_listener:\n",
    "                p1 = np.random.rand(1)\n",
    "                if p1 <= spread_rate_current:\n",
    "                    Nodes_UAU[loop, t+1, j] = 1    # 这个节点已知\n",
    "\n",
    "            # UAU遗忘过程\n",
    "            p2 = np.random.rand(1)\n",
    "            if p2 <= forget_rate_current:\n",
    "                Nodes_UAU[loop, t+1, i] = 0    # 这个节点遗忘\n",
    "\n",
    "\n",
    "        # SIS演化\n",
    "        for i in range(N):\n",
    "\n",
    "            if Nodes_SIS[loop, t, i] == 0:    # 0代表易感(S)，如果上一步节点i健康，就看他的邻居有没有被感染的\n",
    "\n",
    "                neighbor_total = np.where((network_physical[i, :] == 1))[0]    # 查找其邻居\n",
    "                infective_nodes = np.where((Nodes_SIS[loop, t, :] == 1))[0]\n",
    "                neighbor_infective = np.intersect1d(infective_nodes, neighbor_total)    # 取交集，真正可以感染它的邻居\n",
    "                Num_neighbor_infective = len(neighbor_infective)    # 统计\n",
    "\n",
    "                infect_rate_current = bata    # 当前临时感染率\n",
    "                rate_temp = 1    # 用于计算感染率\n",
    "\n",
    "                # SIS感染率改变规则\n",
    "                if Nodes_UAU[loop, t, i] == 0:\n",
    "                    rate_temp = (1 - infect_rate_current) ** Num_neighbor_infective                 \n",
    "\n",
    "                elif Nodes_UAU[loop, t, i] == 1:\n",
    "                    infect_rate_current = infect_rate_current * sigma_S    # 当前临时感染率\n",
    "                    rate_temp = (1 - infect_rate_current) ** Num_neighbor_infective\n",
    "\n",
    "\n",
    "                # SIS感染过程\n",
    "                v1 = 1 - rate_temp    # 这是最终计算的感染率？\n",
    "                x1 = np.random.rand(1)\n",
    "                if x1 <= v1:\n",
    "                    Nodes_SIS[loop, t+1, i] = 1\n",
    "\n",
    "                    # 感染节点信息上传(知晓)\n",
    "                    x2 = np.random.rand(1)\n",
    "                    if  x2 <= aplha:\n",
    "                        Nodes_UAU[loop, t+1, i] = 1\n",
    "\n",
    "            # SIS康复过程\n",
    "            elif Nodes_SIS[loop, t, i] == 1:\n",
    "\n",
    "                recover_rate_current = mu\n",
    "                x3 = np.random.rand(1) \n",
    "                if x3 <= recover_rate_current:\n",
    "                    Nodes_SIS[loop, t+1, i] = 0\n",
    "\n",
    "    print(\"loop {} - time has passed: {} \".format(loop, time.time()-time_start))"
   ]
  },
  {
   "cell_type": "code",
   "execution_count": 6,
   "metadata": {},
   "outputs": [],
   "source": [
    "datasave = './results/result.mat'\n",
    "scio.savemat(datasave, {'NodeSIS':Nodes_SIS, 'NodeUAU':Nodes_UAU})\n",
    "\n",
    "# print(\"Nodes_SIS: \", Nodes_SIS)\n",
    "# print(\"Nodes_UAU: \", Nodes_UAU)"
   ]
  },
  {
   "cell_type": "code",
   "execution_count": 7,
   "metadata": {},
   "outputs": [],
   "source": [
    "# 处理数据\n",
    "for i in range(Monte_Carlo_loop):\n",
    "    infective_count[i,:] = np.sum(Nodes_SIS[i,:,:], axis=1)\n",
    "    awareness_count[i,:] = np.sum(Nodes_UAU[i,:,:], axis=1)\n",
    "    \n",
    "infective_count_average = np.mean(infective_count, axis=0)\n",
    "awareness_count_average = np.mean(awareness_count, axis=0)\n",
    "\n",
    "assert infective_count_average.shape == (time_steps,), \"infective_count_average\\' size don\\'t match!\"\n",
    "assert awareness_count_average.shape == (time_steps,), \"awareness_count_average\\' size don\\'t match!\"\n",
    "\n",
    "# print(\"infective_count_average: \", infective_count_average)\n",
    "# print(\"awareness_count_average: \", awareness_count_average)\n",
    "\n",
    "## 规模参照\n",
    "# Nodes_SIS = np.zeros([Monte_Carlo_loop, time_steps, N])\n",
    "# infective_count = np.zeros([Monte_Carlo_loop, time_steps])\n",
    "# infective_count_average = np.zeros([1, time_steps])"
   ]
  },
  {
   "cell_type": "code",
   "execution_count": 8,
   "metadata": {
    "scrolled": true
   },
   "outputs": [
    {
     "data": {
      "text/plain": [
       "[<matplotlib.lines.Line2D at 0x14ea543e1d0>]"
      ]
     },
     "execution_count": 8,
     "metadata": {},
     "output_type": "execute_result"
    },
    {
     "data": {
      "image/png": "[encoded data removed]",
      "text/plain": [
       "<Figure size 432x288 with 1 Axes>"
      ]
     },
     "metadata": {
      "needs_background": "light"
     },
     "output_type": "display_data"
    }
   ],
   "source": [
    "plt.plot(infective_count_average/N, label='SIS')\n",
    "plt.plot(awareness_count_average/N, label='UAU')"
   ]
  },
  {
   "cell_type": "code",
   "execution_count": null,
   "metadata": {},
   "outputs": [],
   "source": []
  },
  {
   "cell_type": "code",
   "execution_count": null,
   "metadata": {},
   "outputs": [],
   "source": [
    "# 数据可视化\n",
    "t = (1 : 1 : total_steps);\n",
    "\n",
    "# SIS统计\n",
    "plot(t,infective_count_average, '-o', 'color', 'y', 'linewidth', 1.2);\n",
    "hold on;\n",
    "\n",
    "# UAU统计\n",
    "plot(t, awareness_count_average, '-o', 'color', 'k', 'linewidth', 1.2);\n",
    "hold on;\n",
    "\n",
    "xlabel('steps');ylabel('density of nodes');\n",
    "legend('SIS_I(t)','UAU_I(t)');\n",
    "hold off;"
   ]
  },
  {
   "cell_type": "code",
   "execution_count": null,
   "metadata": {},
   "outputs": [],
   "source": [
    "import time\n",
    "\n",
    "print (\"time.time(): %f \" %time.time())\n",
    "\n",
    "time_start=time.time()\n",
    "time.sleep(1)\n",
    "time_end=time.time()\n",
    "print('totally cost',time_end-time_start)"
   ]
  },
  {
   "cell_type": "code",
   "execution_count": null,
   "metadata": {},
   "outputs": [],
   "source": [
    "a = np.array([[1,2],[3,4],[5,6]])\n",
    "datasave = './results/result.mat'\n",
    "scio.savemat(datasave, {'A':a})\n",
    "data_1 = scio.loadmat(datasave)"
   ]
  }
 ],
 "metadata": {
  "kernelspec": {
   "display_name": "Python 3",
   "language": "python",
   "name": "python3"
  },
  "language_info": {
   "codemirror_mode": {
    "name": "ipython",
    "version": 3
   },
   "file_extension": ".py",
   "mimetype": "text/x-python",
   "name": "python",
   "nbconvert_exporter": "python",
   "pygments_lexer": "ipython3",
   "version": "3.6.8"
  }
 },
 "nbformat": 4,
 "nbformat_minor": 2
}
