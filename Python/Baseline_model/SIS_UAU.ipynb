{
 "cells": [
  {
   "cell_type": "code",
   "execution_count": 1,
   "metadata": {},
   "outputs": [],
   "source": [
    "# import networkx as nx\n",
    "import numpy as np\n",
    "import scipy.io as scio\n",
    "import matplotlib.pyplot as plt\n",
    "import random\n",
    "import time\n",
    "\n",
    "%matplotlib inline"
   ]
  },
  {
   "cell_type": "code",
   "execution_count": 2,
   "metadata": {},
   "outputs": [],
   "source": [
    "def check_symmetric(a, tol=1e-8):\n",
    "    return np.allclose(a, a.T, atol=tol)"
   ]
  },
  {
   "cell_type": "code",
   "execution_count": 3,
   "metadata": {},
   "outputs": [
    {
     "data": {
      "text/plain": [
       "0"
      ]
     },
     "execution_count": 3,
     "metadata": {},
     "output_type": "execute_result"
    }
   ],
   "source": [
    "# 网络数据导入为numpy数组\n",
    "dataFile_1 = '../data/BA_2000_3.mat'\n",
    "data_1 = scio.loadmat(dataFile_1)\n",
    "network_scale_1 = data_1['A'].shape\n",
    "network_physical = np.array(data_1['A'])\n",
    "# network_physical = nx.Graph(data['A'])\n",
    "\n",
    "dataFile_2 = '../data/BA_2000_3_add_400_edges.mat'\n",
    "data_2 = scio.loadmat(dataFile_2)\n",
    "network_scale_2  = data_2['B'].shape\n",
    "network_information = np.array(data_2['B'])\n",
    "# network_information = nx.Graph(data['A'])\n",
    "\n",
    "assert network_scale_1 == network_scale_2, \"networks\\' size don\\'t match!\"\n",
    "assert check_symmetric(network_physical), \"network_physical doesn\\'t symmetry!\"\n",
    "assert check_symmetric(network_information), \"network_information doesn\\'t symmetry!\"\n",
    "np.sum(np.sum(network_physical, axis=0)==0)"
   ]
  },
  {
   "cell_type": "code",
   "execution_count": 4,
   "metadata": {},
   "outputs": [],
   "source": [
    "# 参数设置\n",
    "\n",
    "# 公共参数\n",
    "Monte_Carlo_loop = 20    # 蒙特卡洛模拟次数\n",
    "time_steps = 50    # 总的时间步数\n",
    "N = network_scale_1[0]    # 网络节点数\n",
    "p = random.randint(0, N-1)    # 初始始随机选出一个感染节点，四舍五入\n",
    "\n",
    "# SIS参数\n",
    "bata = 0.2    # 感染概率\n",
    "mu = 0.1    # 恢复概率\n",
    "\n",
    "Nodes_SIS = np.zeros([Monte_Carlo_loop, time_steps, N])    # N行代表时间步数，T列代表节点数，记录每步所有节点的状态\n",
    "# Nodes_SIS[0, p] = 1    # 第一步标出初始感染节点的位置\n",
    "\n",
    "infective_count = np.zeros([Monte_Carlo_loop, time_steps])    # 每步感染节点数,用于最终统计\n",
    "infective_count_average = np.zeros([1, time_steps])\n",
    "\n",
    "# UAU参数\n",
    "lamda = 0.4    # 传播率\n",
    "delta = 0.15    # 遗忘率\n",
    "\n",
    "Nodes_UAU = np.zeros([Monte_Carlo_loop, time_steps, N])    # 存储网络中每个节点的状态快照\n",
    "# Nodes_UAU[0, p] = 1    # 随机初始化一个节点使其处于感染状态，当前可感染状态节点的快照\n",
    "\n",
    "awareness_count = np.zeros([Monte_Carlo_loop, time_steps])    # 每步知晓节点数量,用于最终统计\n",
    "awareness_count_average = np.zeros([1, time_steps])\n",
    "\n",
    "# 其他参数\n",
    "aplha = 0.6    # 信息上传率\n",
    "sigma_S = 0.7    # S节点在知道信息后的防御系数/感染率衰减, 相当于减少与周围人的接触"
   ]
  },
  {
   "cell_type": "code",
   "execution_count": 5,
   "metadata": {},
   "outputs": [
    {
     "name": "stdout",
     "output_type": "stream",
     "text": [
      "loop 0 - time has passed: 6.238316535949707 \n",
      "loop 1 - time has passed: 12.558654546737671 \n",
      "loop 2 - time has passed: 18.677295446395874 \n",
      "loop 3 - time has passed: 24.689242124557495 \n",
      "loop 4 - time has passed: 30.747249126434326 \n",
      "loop 5 - time has passed: 36.73224091529846 \n",
      "loop 6 - time has passed: 43.672677516937256 \n",
      "loop 7 - time has passed: 50.036656856536865 \n",
      "loop 8 - time has passed: 57.01303696632385 \n",
      "loop 9 - time has passed: 63.0947744846344 \n",
      "loop 10 - time has passed: 69.30213117599487 \n",
      "loop 11 - time has passed: 75.66116642951965 \n",
      "loop 12 - time has passed: 82.21564078330994 \n",
      "loop 13 - time has passed: 88.65536856651306 \n",
      "loop 14 - time has passed: 95.60079455375671 \n",
      "loop 15 - time has passed: 102.05656480789185 \n",
      "loop 16 - time has passed: 108.29982829093933 \n",
      "loop 17 - time has passed: 114.79146575927734 \n",
      "loop 18 - time has passed: 121.14447450637817 \n",
      "loop 19 - time has passed: 127.49748373031616 \n"
     ]
    }
   ],
   "source": [
    "time_start = time.time()\n",
    "\n",
    "for loop in range(Monte_Carlo_loop):\n",
    "    \n",
    "    Nodes_SIS[loop, 0, p] = 1    # 第一步标出初始感染节点的位置\n",
    "    Nodes_UAU[loop, 0, p] = 1    # 随机初始化一个节点使其处于感染状态，当前可感染状态节点的快照\n",
    "\n",
    "    for t in range(time_steps-1):\n",
    "\n",
    "        # UAU演化\n",
    "\n",
    "        # 找到可以传播的活跃节点\n",
    "        active_node = np.where((Nodes_UAU[loop, t, :] == 1))[0]    # 找到当前有传播力的节点的位置\n",
    "        \n",
    "#         awareness_count[loop] = len(active_node)    # 统计这一刻有传播力节点的数量\n",
    "\n",
    "        # UAU传播过程\n",
    "        for i in active_node:\n",
    "\n",
    "            spread_rate_current = lamda    # 这个暂时放这里，看能不能省掉\n",
    "            forget_rate_current = delta\n",
    "\n",
    "            # UAU传播过程\n",
    "            neighbor_total = np.where(network_information[i, :] == 1)[0]    # 找到第i个有传染力节点的邻居        \n",
    "            neighbor_listener = np.setdiff1d(neighbor_total, active_node)    # 从neighbor_total去除active_node的节点，应是排除已经感染的邻?\n",
    "\n",
    "            for j in neighbor_listener:\n",
    "                p1 = np.random.rand(1)\n",
    "                if p1 <= spread_rate_current:\n",
    "                    Nodes_UAU[loop, t+1, j] = 1    # 这个节点已知\n",
    "\n",
    "            # UAU遗忘过程\n",
    "            p2 = np.random.rand(1)\n",
    "            if p2 <= forget_rate_current:\n",
    "                Nodes_UAU[loop, t+1, i] = 0    # 这个节点遗忘\n",
    "            else:\n",
    "                Nodes_UAU[loop, t+1, i] = 1\n",
    "\n",
    "\n",
    "        # SIS演化\n",
    "        for i in range(N):\n",
    "\n",
    "            if Nodes_SIS[loop, t, i] == 0:    # 0代表易感(S)，如果上一步节点i健康，就看他的邻居有没有被感染的\n",
    "\n",
    "                neighbor_total = np.where((network_physical[i, :] == 1))[0]    # 查找其邻居\n",
    "                infective_nodes = np.where((Nodes_SIS[loop, t, :] == 1))[0]\n",
    "                neighbor_infective = np.intersect1d(infective_nodes, neighbor_total)    # 取交集，真正可以感染它的邻居\n",
    "                Num_neighbor_infective = len(neighbor_infective)    # 统计\n",
    "\n",
    "                infect_rate_current = bata    # 当前临时感染率\n",
    "                rate_temp = 1    # 用于计算感染率\n",
    "\n",
    "                # SIS感染率改变规则\n",
    "                if Nodes_UAU[loop, t, i] == 0:\n",
    "                    rate_temp = (1 - infect_rate_current) ** Num_neighbor_infective                 \n",
    "\n",
    "                elif Nodes_UAU[loop, t, i] == 1:\n",
    "                    infect_rate_current = infect_rate_current * sigma_S    # 当前临时感染率\n",
    "                    rate_temp = (1 - infect_rate_current) ** Num_neighbor_infective\n",
    "\n",
    "\n",
    "                # SIS感染过程\n",
    "                v1 = 1 - rate_temp    # 这是最终计算的感染率？\n",
    "                x1 = np.random.rand(1)\n",
    "                if x1 <= v1:\n",
    "                    Nodes_SIS[loop, t+1, i] = 1\n",
    "\n",
    "                    # 感染节点信息上传(知晓)\n",
    "                    x2 = np.random.rand(1)\n",
    "                    if  x2 <= aplha:\n",
    "                        Nodes_UAU[loop, t+1, i] = 1\n",
    "\n",
    "            # SIS康复过程\n",
    "            elif Nodes_SIS[loop, t, i] == 1:\n",
    "\n",
    "                recover_rate_current = mu\n",
    "                x3 = np.random.rand(1) \n",
    "                if x3 <= recover_rate_current:\n",
    "                    Nodes_SIS[loop, t+1, i] = 0\n",
    "                else:\n",
    "                    Nodes_SIS[loop, t+1, i] = 1\n",
    "            else:\n",
    "                print(\"There is an else condition happened.\")\n",
    "\n",
    "    print(\"loop {} - time has passed: {} \".format(loop, time.time()-time_start))"
   ]
  },
  {
   "cell_type": "code",
   "execution_count": 8,
   "metadata": {},
   "outputs": [],
   "source": [
    "datasave = '../results/result.mat'\n",
    "scio.savemat(datasave, {'NodeSIS':Nodes_SIS, 'NodeUAU':Nodes_UAU})\n",
    "\n",
    "# print(\"Nodes_SIS: \", Nodes_SIS)\n",
    "# print(\"Nodes_UAU: \", Nodes_UAU)"
   ]
  },
  {
   "cell_type": "code",
   "execution_count": 9,
   "metadata": {},
   "outputs": [],
   "source": [
    "# 处理数据\n",
    "for i in range(Monte_Carlo_loop):\n",
    "    infective_count[i,:] = np.sum(Nodes_SIS[i,:,:], axis=1)\n",
    "    awareness_count[i,:] = np.sum(Nodes_UAU[i,:,:], axis=1)\n",
    "    \n",
    "infective_count_average = np.mean(infective_count, axis=0)\n",
    "awareness_count_average = np.mean(awareness_count, axis=0)\n",
    "\n",
    "assert infective_count_average.shape == (time_steps,), \"infective_count_average\\' size don\\'t match!\"\n",
    "assert awareness_count_average.shape == (time_steps,), \"awareness_count_average\\' size don\\'t match!\"\n",
    "\n",
    "# print(\"infective_count_average: \", infective_count_average)\n",
    "# print(\"awareness_count_average: \", awareness_count_average)\n",
    "\n",
    "## 规模参照\n",
    "# Nodes_SIS = np.zeros([Monte_Carlo_loop, time_steps, N])\n",
    "# infective_count = np.zeros([Monte_Carlo_loop, time_steps])\n",
    "# infective_count_average = np.zeros([1, time_steps])"
   ]
  },
  {
   "cell_type": "code",
   "execution_count": 12,
   "metadata": {
    "scrolled": true
   },
   "outputs": [
    {
     "data": {
      "text/plain": [
       "[<matplotlib.lines.Line2D at 0x27da51c42b0>]"
      ]
     },
     "execution_count": 12,
     "metadata": {},
     "output_type": "execute_result"
    },
    {
     "data": {
      "image/png": "[encoded data removed]",
      "text/plain": [
       "<Figure size 432x288 with 1 Axes>"
      ]
     },
     "metadata": {
      "needs_background": "light"
     },
     "output_type": "display_data"
    }
   ],
   "source": [
    "plt.plot(infective_count_average/N, label='SIS')\n",
    "plt.plot(awareness_count_average/N, label='UAU')"
   ]
  },
  {
   "cell_type": "code",
   "execution_count": null,
   "metadata": {},
   "outputs": [],
   "source": []
  },
  {
   "cell_type": "code",
   "execution_count": null,
   "metadata": {},
   "outputs": [],
   "source": [
    "# 数据可视化\n",
    "t = (1 : 1 : total_steps);\n",
    "\n",
    "# SIS统计\n",
    "plot(t,infective_count_average, '-o', 'color', 'y', 'linewidth', 1.2);\n",
    "hold on;\n",
    "\n",
    "# UAU统计\n",
    "plot(t, awareness_count_average, '-o', 'color', 'k', 'linewidth', 1.2);\n",
    "hold on;\n",
    "\n",
    "xlabel('steps');ylabel('density of nodes');\n",
    "legend('SIS_I(t)','UAU_I(t)');\n",
    "hold off;"
   ]
  },
  {
   "cell_type": "code",
   "execution_count": null,
   "metadata": {},
   "outputs": [],
   "source": [
    "import time\n",
    "\n",
    "print (\"time.time(): %f \" %time.time())\n",
    "\n",
    "time_start=time.time()\n",
    "time.sleep(1)\n",
    "time_end=time.time()\n",
    "print('totally cost',time_end-time_start)"
   ]
  },
  {
   "cell_type": "code",
   "execution_count": null,
   "metadata": {},
   "outputs": [],
   "source": [
    "a = np.array([[1,2],[3,4],[5,6]])\n",
    "datasave = './results/result.mat'\n",
    "scio.savemat(datasave, {'A':a})\n",
    "data_1 = scio.loadmat(datasave)"
   ]
  }
 ],
 "metadata": {
  "kernelspec": {
   "display_name": "Python 3",
   "language": "python",
   "name": "python3"
  },
  "language_info": {
   "codemirror_mode": {
    "name": "ipython",
    "version": 3
   },
   "file_extension": ".py",
   "mimetype": "text/x-python",
   "name": "python",
   "nbconvert_exporter": "python",
   "pygments_lexer": "ipython3",
   "version": "3.6.8"
  }
 },
 "nbformat": 4,
 "nbformat_minor": 2
}
