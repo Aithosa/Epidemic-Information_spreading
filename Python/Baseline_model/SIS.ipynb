{
 "cells": [
  {
   "cell_type": "code",
   "execution_count": 1,
   "metadata": {},
   "outputs": [],
   "source": [
    "import numpy as np\n",
    "import scipy.io as scio\n",
    "import networkx as nx\n",
    "import matplotlib.pyplot as plt\n",
    "import random\n",
    "import time\n",
    "\n",
    "%matplotlib inline"
   ]
  },
  {
   "cell_type": "code",
   "execution_count": 2,
   "metadata": {},
   "outputs": [],
   "source": [
    "# BA = nx.random_graphs.barabasi_albert_graph(2000, 3)\n",
    "# BA_2000_3 = nx.to_numpy_matrix(BA)\n",
    "# network_physical = BA_2000_3\n",
    "# network_scale_1 = network_physical.shape"
   ]
  },
  {
   "cell_type": "code",
   "execution_count": 3,
   "metadata": {},
   "outputs": [],
   "source": [
    "# np.sum(np.sum(network_physical, axis=0)==0)"
   ]
  },
  {
   "cell_type": "code",
   "execution_count": 2,
   "metadata": {},
   "outputs": [],
   "source": [
    "def check_symmetric(a, tol=1e-8):\n",
    "    return np.allclose(a, a.T, atol=tol)"
   ]
  },
  {
   "cell_type": "code",
   "execution_count": 3,
   "metadata": {},
   "outputs": [
    {
     "data": {
      "text/plain": [
       "0"
      ]
     },
     "execution_count": 3,
     "metadata": {},
     "output_type": "execute_result"
    }
   ],
   "source": [
    "# 网络数据导入为numpy数组\n",
    "dataFile_1 = '../../Matlab/data/BA_2000_3.mat'\n",
    "data_1 = scio.loadmat(dataFile_1)\n",
    "network_scale_1 = data_1['A'].shape\n",
    "network_physical = np.array(data_1['A'])\n",
    "\n",
    "assert check_symmetric(network_physical), \"network doesn\\'t symmetry!\"\n",
    "np.sum(np.sum(network_physical, axis=0)==0)"
   ]
  },
  {
   "cell_type": "code",
   "execution_count": 6,
   "metadata": {},
   "outputs": [],
   "source": [
    "# 参数设置\n",
    "\n",
    "# 公共参数\n",
    "time_steps = 50    # 总的时间步数\n",
    "N = network_scale_1[0]    # 网络节点数\n",
    "p = random.randint(0, N-1)    # 初始始随机选出一个感染节点，四舍五入\n",
    "\n",
    "# SIR参数\n",
    "bata = 0.3    # 感染概率\n",
    "mu = 0.5    # 免疫概率\n",
    "\n",
    "Nodes_SIS = np.zeros([time_steps, N])    # N行代表时间步数，T列代表节点数，记录每步所有节点的状态\n",
    "\n",
    "infective_count = np.zeros([time_steps])    # 每步感染节点数,用于最终统计\n",
    "immune_count = np.zeros([time_steps])    # 每步免疫节点数,用于最终统计\n",
    "s_count = np.zeros([time_steps])    # 每步免疫节点数,用于最终统计\n",
    "\n",
    "Nodes_SIS[0, p] = 1    # 第一步标出初始感染节点的位置"
   ]
  },
  {
   "cell_type": "code",
   "execution_count": 7,
   "metadata": {},
   "outputs": [],
   "source": [
    "for t in range(time_steps-1):\n",
    "    \n",
    "    # SIS演化\n",
    "    for i in range(N):\n",
    "\n",
    "        if Nodes_SIS[t, i] == 0:    # 0代表易感(S)，如果上一步节点i健康，就看他的邻居有没有被感染的\n",
    "\n",
    "            neighbor_total = np.where((network_physical[i, :] == 1))[0]    # 查找其邻居\n",
    "            infective_nodes = np.where((Nodes_SIS[t, :] == 1))[0]\n",
    "            neighbor_infective = np.intersect1d(infective_nodes, neighbor_total)    # 取交集，真正可以感染它的邻居\n",
    "            Num_neighbor_infective = len(neighbor_infective)    # 统计\n",
    "\n",
    "            # SIS感染率改变规则\n",
    "            rate_temp = (1 - bata) ** Num_neighbor_infective\n",
    "\n",
    "            # SIS感染过程\n",
    "            v1 = 1 - rate_temp    # 这是最终计算的感染率\n",
    "            x1 = np.random.rand(1)\n",
    "            if x1 <= v1:\n",
    "                Nodes_SIS[t+1, i] = 1\n",
    "\n",
    "        # SIS康复过程\n",
    "        elif Nodes_SIS[t, i] == 1:\n",
    "\n",
    "            recover_rate_current = mu\n",
    "            x3 = np.random.rand(1) \n",
    "            if x3 <= recover_rate_current:\n",
    "                Nodes_SIS[t+1, i] = 0\n",
    "            else:\n",
    "                Nodes_SIS[t+1, i] = 1"
   ]
  },
  {
   "cell_type": "code",
   "execution_count": 8,
   "metadata": {},
   "outputs": [
    {
     "data": {
      "text/plain": [
       "[<matplotlib.lines.Line2D at 0x1de20525080>]"
      ]
     },
     "execution_count": 8,
     "metadata": {},
     "output_type": "execute_result"
    },
    {
     "data": {
      "image/png": "[encoded data removed]",
      "text/plain": [
       "<Figure size 432x288 with 1 Axes>"
      ]
     },
     "metadata": {
      "needs_background": "light"
     },
     "output_type": "display_data"
    }
   ],
   "source": [
    "# 处理数据\n",
    "infective_count = np.sum(Nodes_SIS, axis=1)/N\n",
    "\n",
    "plt.plot(infective_count, label='SIS')"
   ]
  },
  {
   "cell_type": "code",
   "execution_count": null,
   "metadata": {},
   "outputs": [],
   "source": []
  },
  {
   "cell_type": "code",
   "execution_count": 4,
   "metadata": {},
   "outputs": [],
   "source": [
    "# 参数设置\n",
    "\n",
    "# 公共参数\n",
    "Monte_Carlo_loop = 20    # 蒙特卡洛模拟次数\n",
    "time_steps = 50    # 总的时间步数\n",
    "N = network_scale_1[0]    # 网络节点数\n",
    "p = random.randint(0, N-1)    # 初始始随机选出一个感染节点，四舍五入\n",
    "\n",
    "# SIS参数\n",
    "bata = 0.2    # 感染概率\n",
    "mu = 0.1    # 恢复概率\n",
    "\n",
    "Nodes_SIS = np.zeros([Monte_Carlo_loop, time_steps, N])    # N行代表时间步数，T列代表节点数，记录每步所有节点的状态\n",
    "\n",
    "infective_count = np.zeros([Monte_Carlo_loop, time_steps])    # 每步感染节点数,用于最终统计\n",
    "infective_count_average = np.zeros([1, time_steps])"
   ]
  },
  {
   "cell_type": "code",
   "execution_count": 5,
   "metadata": {},
   "outputs": [
    {
     "name": "stdout",
     "output_type": "stream",
     "text": [
      "loop 0 - time has passed: 1.378312110900879 \n",
      "loop 1 - time has passed: 2.748311996459961 \n",
      "loop 2 - time has passed: 4.060802936553955 \n",
      "loop 3 - time has passed: 5.467041730880737 \n",
      "loop 4 - time has passed: 6.796484708786011 \n",
      "loop 5 - time has passed: 8.251587390899658 \n",
      "loop 6 - time has passed: 10.706030130386353 \n",
      "loop 7 - time has passed: 12.096744060516357 \n",
      "loop 8 - time has passed: 13.498956441879272 \n",
      "loop 9 - time has passed: 14.837375164031982 \n",
      "loop 10 - time has passed: 16.170808792114258 \n",
      "loop 11 - time has passed: 17.482301235198975 \n",
      "loop 12 - time has passed: 18.928436517715454 \n",
      "loop 13 - time has passed: 20.343692541122437 \n",
      "loop 14 - time has passed: 21.664116859436035 \n",
      "loop 15 - time has passed: 23.070356607437134 \n",
      "loop 16 - time has passed: 24.544414281845093 \n",
      "loop 17 - time has passed: 26.905099153518677 \n",
      "loop 18 - time has passed: 28.35322618484497 \n",
      "loop 19 - time has passed: 29.658773183822632 \n",
      "loop 20 - time has passed: 31.06597089767456 \n",
      "loop 21 - time has passed: 32.515137910842896 \n",
      "loop 22 - time has passed: 34.87777590751648 \n",
      "loop 23 - time has passed: 37.270392179489136 \n",
      "loop 24 - time has passed: 38.74046802520752 \n",
      "loop 25 - time has passed: 40.1287317276001 \n",
      "loop 26 - time has passed: 41.60478401184082 \n",
      "loop 27 - time has passed: 43.08382964134216 \n",
      "loop 28 - time has passed: 44.41127800941467 \n",
      "loop 29 - time has passed: 45.91126608848572 \n",
      "loop 30 - time has passed: 47.316551208496094 \n",
      "loop 31 - time has passed: 48.64096522331238 \n",
      "loop 32 - time has passed: 51.0006537437439 \n",
      "loop 33 - time has passed: 52.331095457077026 \n",
      "loop 34 - time has passed: 53.64657735824585 \n",
      "loop 35 - time has passed: 55.068774938583374 \n",
      "loop 36 - time has passed: 56.50991916656494 \n",
      "loop 37 - time has passed: 57.97105145454407 \n",
      "loop 38 - time has passed: 59.43310070037842 \n",
      "loop 39 - time has passed: 60.83535099029541 \n",
      "loop 40 - time has passed: 62.299434423446655 \n",
      "loop 41 - time has passed: 63.677791595458984 \n",
      "loop 42 - time has passed: 65.1498110294342 \n",
      "loop 43 - time has passed: 67.74187850952148 \n",
      "loop 44 - time has passed: 69.13814425468445 \n",
      "loop 45 - time has passed: 70.58826684951782 \n",
      "loop 46 - time has passed: 71.98353433609009 \n",
      "loop 47 - time has passed: 74.51177167892456 \n",
      "loop 48 - time has passed: 75.9180109500885 \n",
      "loop 49 - time has passed: 77.46094751358032 \n"
     ]
    }
   ],
   "source": [
    "time_start = time.time()\n",
    "\n",
    "for loop in range(Monte_Carlo_loop):\n",
    "    \n",
    "    Nodes_SIS[loop, 0, p] = 1    # 第一步标出初始感染节点的位置\n",
    "\n",
    "    for t in range(time_steps-1):\n",
    "\n",
    "        # SIS演化\n",
    "        for i in range(N):\n",
    "\n",
    "            if Nodes_SIS[loop, t, i] == 0:    # 0代表易感(S)，如果上一步节点i健康，就看他的邻居有没有被感染的\n",
    "\n",
    "                neighbor_total = np.where((network_physical[i, :] == 1))[0]    # 查找其邻居\n",
    "                infective_nodes = np.where((Nodes_SIS[loop, t, :] == 1))[0]\n",
    "                neighbor_infective = np.intersect1d(infective_nodes, neighbor_total)    # 取交集，真正可以感染它的邻居\n",
    "                Num_neighbor_infective = len(neighbor_infective)    # 统计\n",
    "\n",
    "                infect_rate_current = bata    # 当前临时感染率\n",
    "                rate_temp = 1    # 用于计算感染率\n",
    "\n",
    "                # SIS感染率改变规则\n",
    "                rate_temp = (1 - bata) ** Num_neighbor_infective\n",
    "\n",
    "                # SIS感染过程\n",
    "                v1 = 1 - rate_temp    # 这是最终计算的感染率\n",
    "                x1 = np.random.rand(1)\n",
    "                if x1 <= v1:\n",
    "                    Nodes_SIS[loop, t+1, i] = 1\n",
    "\n",
    "            # SIS康复过程\n",
    "            elif Nodes_SIS[loop, t, i] == 1:\n",
    "\n",
    "                recover_rate_current = mu\n",
    "                x3 = np.random.rand(1) \n",
    "                if x3 <= recover_rate_current:\n",
    "                    Nodes_SIS[loop, t+1, i] = 0\n",
    "                else:\n",
    "                    Nodes_SIS[loop, t+1, i] = 1\n",
    "\n",
    "    print(\"loop {} - time has passed: {} \".format(loop, time.time()-time_start))"
   ]
  },
  {
   "cell_type": "code",
   "execution_count": 6,
   "metadata": {},
   "outputs": [],
   "source": [
    "# 处理数据\n",
    "for i in range(Monte_Carlo_loop):\n",
    "    infective_count[i,:] = np.sum(Nodes_SIS[i,:,:], axis=1)\n",
    "    \n",
    "infective_count_average = np.mean(infective_count, axis=0)\n",
    "\n",
    "assert infective_count_average.shape == (time_steps,), \"infective_count_average\\' size don\\'t match!\""
   ]
  },
  {
   "cell_type": "code",
   "execution_count": 8,
   "metadata": {},
   "outputs": [
    {
     "data": {
      "text/plain": [
       "[<matplotlib.lines.Line2D at 0x27701efd128>]"
      ]
     },
     "execution_count": 8,
     "metadata": {},
     "output_type": "execute_result"
    },
    {
     "data": {
      "image/png": "[encoded data removed]",
      "text/plain": [
       "<Figure size 432x288 with 1 Axes>"
      ]
     },
     "metadata": {
      "needs_background": "light"
     },
     "output_type": "display_data"
    }
   ],
   "source": [
    "plt.plot(infective_count_average/N, label='SIS')"
   ]
  },
  {
   "cell_type": "code",
   "execution_count": null,
   "metadata": {},
   "outputs": [],
   "source": []
  }
 ],
 "metadata": {
  "kernelspec": {
   "display_name": "Python 3",
   "language": "python",
   "name": "python3"
  },
  "language_info": {
   "codemirror_mode": {
    "name": "ipython",
    "version": 3
   },
   "file_extension": ".py",
   "mimetype": "text/x-python",
   "name": "python",
   "nbconvert_exporter": "python",
   "pygments_lexer": "ipython3",
   "version": "3.6.8"
  }
 },
 "nbformat": 4,
 "nbformat_minor": 2
}
