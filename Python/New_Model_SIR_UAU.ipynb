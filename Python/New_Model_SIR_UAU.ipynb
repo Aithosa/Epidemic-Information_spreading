{
 "cells": [
  {
   "cell_type": "code",
   "execution_count": 1,
   "metadata": {},
   "outputs": [],
   "source": [
    "# import networkx as nx\n",
    "import numpy as np\n",
    "import scipy.io as scio\n",
    "import matplotlib.pyplot as plt\n",
    "import seaborn as sns\n",
    "import random\n",
    "import time\n",
    "\n",
    "%matplotlib inline\n",
    "plt.style.use('ggplot')\n",
    "sns.set()"
   ]
  },
  {
   "cell_type": "code",
   "execution_count": 2,
   "metadata": {},
   "outputs": [],
   "source": [
    "def check_symmetric(a, tol=1e-8):\n",
    "    return np.allclose(a, a.T, atol=tol)"
   ]
  },
  {
   "cell_type": "code",
   "execution_count": 3,
   "metadata": {},
   "outputs": [
    {
     "data": {
      "text/plain": [
       "0"
      ]
     },
     "execution_count": 3,
     "metadata": {},
     "output_type": "execute_result"
    }
   ],
   "source": [
    "# 网络数据导入为numpy数组\n",
    "dataFile_1 = './data/BA_2000_3.mat'\n",
    "data_1 = scio.loadmat(dataFile_1)\n",
    "network_scale_1 = data_1['A'].shape\n",
    "network_physical = np.array(data_1['A'])\n",
    "# network_physical = nx.Graph(data['A'])\n",
    "\n",
    "dataFile_2 = './data/BA_2000_3_add_400_edges.mat'\n",
    "data_2 = scio.loadmat(dataFile_2)\n",
    "network_scale_2  = data_2['B'].shape\n",
    "network_information = np.array(data_2['B'])\n",
    "# network_information = nx.Graph(data['A'])\n",
    "\n",
    "assert network_scale_1 == network_scale_2, \"networks\\' size don\\'t match!\"\n",
    "assert check_symmetric(network_physical), \"network_physical doesn\\'t symmetry!\"\n",
    "assert check_symmetric(network_information), \"network_information doesn\\'t symmetry!\"\n",
    "np.sum(np.sum(network_physical, axis=0)==0)"
   ]
  },
  {
   "cell_type": "code",
   "execution_count": 4,
   "metadata": {},
   "outputs": [],
   "source": [
    "# 参数设置\n",
    "\n",
    "# 公共参数\n",
    "Monte_Carlo_loop = 20    # 蒙特卡洛模拟次数\n",
    "time_steps = 100    # 总时间步数\n",
    "N = network_scale_1[0]    # 网络节点数\n",
    "\n",
    "p = random.randint(0, N-1)    # 初始始随机选出一个感染节点，四舍五入\n",
    "\n",
    "# SIS参数\n",
    "bata = 0.2    # 感染概率\n",
    "mu = 0.1    # 恢复概率\n",
    "\n",
    "Nodes_SIR = np.zeros([Monte_Carlo_loop, time_steps, N])    # N行代表时间步数，T列代表节点数，记录每步所有节点的感染状态\n",
    "# Nodes_SIS[0, p] = 1    # 第一步标出初始感染节点的位置\n",
    "\n",
    "infective_count = np.zeros([Monte_Carlo_loop, time_steps])    # 每步感染节点数,用于最终统计\n",
    "infective_count_average = np.zeros([1, time_steps])\n",
    "\n",
    "immune_count = np.zeros([Monte_Carlo_loop, time_steps])    # 每步免疫节点数,用于最终统计\n",
    "immune_count_average = np.zeros([1, time_steps])\n",
    "\n",
    "s_count = np.zeros([Monte_Carlo_loop, time_steps])    # 每步易感节点数,用于最终统计\n",
    "s_count_average = np.zeros([1, time_steps])\n",
    "\n",
    "# UAU参数\n",
    "lamda = 0.4    # 传播率\n",
    "delta = 0.15    # 遗忘率\n",
    "\n",
    "Nodes_UAU = np.zeros([Monte_Carlo_loop, time_steps, N])    # 存储网络中每个节点的知情状态快照\n",
    "# Nodes_UAU[0, p] = 1    # 随机初始化一个节点使其处于感染状态，当前可感染状态节点的快照\n",
    "\n",
    "awareness_count = np.zeros([Monte_Carlo_loop, time_steps])    # 每步知晓节点数量,用于最终统计\n",
    "awareness_count_average = np.zeros([1, time_steps])\n",
    "\n",
    "# 节点活跃度\n",
    "# inactiverate = 0.4\n",
    "# activerate = 0.6\n",
    "\n",
    "inactiverate = 0\n",
    "activerate = 1\n",
    "\n",
    "Node_Active = np.ones([Monte_Carlo_loop, time_steps, N])    # 存储网络中每个节点的活跃状态快照\n",
    "inactive_count = np.zeros([Monte_Carlo_loop, time_steps])    # 每步知晓节点数量,用于最终统计\n",
    "inactive_count_average = np.zeros([1, time_steps])\n",
    "\n",
    "# 其他参数\n",
    "# aplha = 0    # 信息上传率\n",
    "aplha = 0.6    # 信息上传率\n",
    "sigma_S = 0.7    # S节点在知道信息后的防御系数/感染率衰减, 相当于减少与周围人的接触"
   ]
  },
  {
   "cell_type": "code",
   "execution_count": 5,
   "metadata": {},
   "outputs": [
    {
     "name": "stdout",
     "output_type": "stream",
     "text": [
      "loop 0 - time has passed: 11.319767713546753 \n",
      "loop 1 - time has passed: 23.091919660568237 \n",
      "loop 2 - time has passed: 39.576842308044434 \n",
      "loop 3 - time has passed: 51.210715770721436 \n",
      "loop 4 - time has passed: 63.52397131919861 \n",
      "loop 5 - time has passed: 75.5378429889679 \n",
      "loop 6 - time has passed: 87.47591495513916 \n",
      "loop 7 - time has passed: 104.52128529548645 \n",
      "loop 8 - time has passed: 117.46869707107544 \n",
      "loop 9 - time has passed: 129.6012477874756 \n",
      "loop 10 - time has passed: 141.4615228176117 \n",
      "loop 11 - time has passed: 155.3394112586975 \n",
      "loop 12 - time has passed: 166.9533655643463 \n",
      "loop 13 - time has passed: 180.5110788345337 \n",
      "loop 14 - time has passed: 193.46539759635925 \n",
      "loop 15 - time has passed: 207.1448781490326 \n",
      "loop 16 - time has passed: 218.98521614074707 \n",
      "loop 17 - time has passed: 230.50639581680298 \n",
      "loop 18 - time has passed: 242.53618216514587 \n",
      "loop 19 - time has passed: 254.45349311828613 \n"
     ]
    }
   ],
   "source": [
    "time_start = time.time()\n",
    "\n",
    "for loop in range(Monte_Carlo_loop):\n",
    "    \n",
    "    Nodes_SIR[loop, 0, p] = 1    # 第一步标出初始感染节点的位置\n",
    "    Nodes_UAU[loop, 0, p] = 1    # 随机初始化一个节点使其处于感染状态，当前可感染状态节点的快照\n",
    "\n",
    "    # 初始节点依概率变得不活跃\n",
    "    p0 = np.random.rand(1)\n",
    "    if p0 <= inactiverate:\n",
    "        Node_Active[loop, 0, p] = 0    # 初始节点不活跃\n",
    "\n",
    "    for t in range(time_steps-1):\n",
    "\n",
    "        # UAU演化\n",
    "\n",
    "        awareness_nodes = np.where((Nodes_UAU[loop, t, :] == 1))[0]    # 找到当前有传播力的节点的位置\n",
    "\n",
    "        # UAU传播过程\n",
    "        for a in awareness_nodes:\n",
    "\n",
    "            neighbor_total = np.where(network_information[a, :] == 1)[0]    # 找到第i个有传染力节点的邻居        \n",
    "            neighbor_listener = np.setdiff1d(neighbor_total, awareness_nodes)    # 从neighbor_total去除awareness_nodes的节点，排除知情邻居\n",
    "\n",
    "            # 让节点依次感染邻居(这种方式和SIS的的感染方式效果相同？)\n",
    "            for j in neighbor_listener:\n",
    "                p1 = np.random.rand(1)\n",
    "                if p1 <= lamda:\n",
    "                    Nodes_UAU[loop, t+1, j] = 1    # 这个节点已知\n",
    "\n",
    "                    # 成功感染的节点下一时刻依概率变得不活跃\n",
    "                    p3 = np.random.rand(1)\n",
    "                    if p3 <= inactiverate:\n",
    "                        Node_Active[loop, t+1, j] = 0    # 这个节点不活跃\n",
    "\n",
    "            # UAU遗忘过程\n",
    "            p2 = np.random.rand(1)\n",
    "            if p2 <= delta:\n",
    "                Nodes_UAU[loop, t+1, a] = 0    # 这个节点遗忘\n",
    "\n",
    "                # 节点依概率变得活跃\n",
    "                p4 = np.random.rand(1)\n",
    "                if p4 <= activerate:\n",
    "                    Node_Active[loop, t+1, a] = 1    # 这个节点重新活跃\n",
    "                else:\n",
    "                    Node_Active[loop, t+1, a] = 0\n",
    "            else:\n",
    "                Nodes_UAU[loop, t+1, a] = 1\n",
    "                if Node_Active[loop, t, a] == 0:\n",
    "                    Node_Active[loop, t+1, a] = 0\n",
    "\n",
    "\n",
    "        # SIR演化\n",
    "        for i in range(N):\n",
    "\n",
    "            # 0代表易感(S)，如果上一步节点i健康，就看他的邻居有没有被感染的\n",
    "            if ((Nodes_SIR[loop, t, i] == 0) and (Node_Active[loop, t, i] == 1)):    \n",
    "\n",
    "                neighbor_total = np.where((network_physical[i, :] == 1))[0]    # 查找其邻居\n",
    "                infective_nodes = np.where((Nodes_SIR[loop, t, :] == 1))[0]\n",
    "                neighbor_infective = np.intersect1d(infective_nodes, neighbor_total)    # 取交集，真正可以感染它的邻居\n",
    "                Num_neighbor_infective = len(neighbor_infective)    # 统计\n",
    "\n",
    "                infect_rate_current = bata    # 当前临时感染率\n",
    "                rate_temp = 1    # 用于计算感染率\n",
    "\n",
    "                # SIR感染率改变规则\n",
    "                if Nodes_UAU[loop, t, i] == 0:\n",
    "                    rate_temp = (1 - infect_rate_current) ** Num_neighbor_infective                 \n",
    "\n",
    "                elif Nodes_UAU[loop, t, i] == 1:\n",
    "                    infect_rate_current = infect_rate_current * sigma_S    # 当前临时感染率\n",
    "                    rate_temp = (1 - infect_rate_current) ** Num_neighbor_infective\n",
    "\n",
    "\n",
    "                # SIR感染过程\n",
    "                v1 = 1 - rate_temp    # 这是最终计算的感染率？\n",
    "                x1 = np.random.rand(1)\n",
    "                if x1 <= v1:\n",
    "                    Nodes_SIR[loop, t+1, i] = 1\n",
    "\n",
    "                    # 感染节点信息上传(知晓)\n",
    "                    x2 = np.random.rand(1)\n",
    "                    if  x2 <= aplha:\n",
    "                        Nodes_UAU[loop, t+1, i] = 1\n",
    "\n",
    "                        # 成功感染的节点下一时刻依概率变得不活跃\n",
    "                        x4 = np.random.rand(1)\n",
    "                        if x4 <= inactiverate:\n",
    "                            Node_Active[loop, t+1, i] = 0    # 这个节点不活跃\n",
    "\n",
    "            elif ((Nodes_SIR[loop, t, i] == 0) and (Node_Active[loop, t, i] == 0)):\n",
    "\n",
    "                neighbor_total = np.where((network_physical[i, :] == 1))[0]    # 查找其邻居\n",
    "\n",
    "                infective_nodes = np.where((Nodes_SIR[loop, t, :] == 1))[0]\n",
    "                active_nodes = np.where((Node_Active[loop, t, :] == 1))[0]    # 活跃节点\n",
    "\n",
    "                neighbor_infective = np.intersect1d(infective_nodes, neighbor_total)    # 取交集，真正可以感染它的邻居\n",
    "                neighbor_infective_active = np.intersect1d(neighbor_infective, active_nodes)    # 取交集，真正可以感染它的活跃邻居\n",
    "\n",
    "                Num_neighbor_infective_active = len(neighbor_infective_active)    # 统计\n",
    "\n",
    "                infect_rate_current = bata    # 当前临时感染率\n",
    "                rate_temp = 1    # 用于计算感染率\n",
    "\n",
    "                # SIR感染率改变规则\n",
    "                if Nodes_UAU[loop, t, i] == 0:\n",
    "                    rate_temp = (1 - infect_rate_current) ** Num_neighbor_infective_active                 \n",
    "\n",
    "                elif Nodes_UAU[loop, t, i] == 1:\n",
    "                    infect_rate_current = infect_rate_current * sigma_S    # 当前临时感染率\n",
    "                    rate_temp = (1 - infect_rate_current) ** Num_neighbor_infective_active\n",
    "\n",
    "\n",
    "                # SIR感染过程\n",
    "                v1 = 1 - rate_temp    # 这是最终计算的感染率？\n",
    "                x1 = np.random.rand(1)\n",
    "                if x1 <= v1:\n",
    "                    Nodes_SIR[loop, t+1, i] = 1\n",
    "\n",
    "                    # 感染节点信息上传(知晓)\n",
    "                    x2 = np.random.rand(1)\n",
    "                    if  x2 <= aplha:\n",
    "                        Nodes_UAU[loop, t+1, i] = 1\n",
    "                        \n",
    "                        # 成功感染的节点下一时刻依概率变得不活跃\n",
    "                        x4 = np.random.rand(1)\n",
    "                        if x4 <= inactiverate:\n",
    "                            Node_Active[loop, t+1, i] = 0    # 这个节点不活跃\n",
    "\n",
    "            # SIR康复过程\n",
    "            elif Nodes_SIR[loop, t, i] == 1:\n",
    "\n",
    "                immune_rate_current = mu\n",
    "                x3 = np.random.rand(1) \n",
    "                if x3 <= immune_rate_current:\n",
    "                    Nodes_SIR[loop, t+1, i] = 2\n",
    "                else:\n",
    "                    Nodes_SIR[loop, t+1, i] = 1\n",
    "\n",
    "            elif Nodes_SIR[loop, t, i] == 2:\n",
    "                Nodes_SIR[loop, t+1, i] = 2\n",
    "            \n",
    "            else:\n",
    "                print(\"There is an else condition happened in SIR.\")\n",
    "\n",
    "    print(\"loop {} - time has passed: {} \".format(loop, time.time()-time_start))"
   ]
  },
  {
   "cell_type": "code",
   "execution_count": 6,
   "metadata": {},
   "outputs": [],
   "source": [
    "# datasave = '../results/result.mat'\n",
    "# scio.savemat(datasave, {'NodesSIR':Nodes_SIR, 'NodeUAU':Nodes_UAU})\n",
    "\n",
    "# # print(\"Nodes_SIS: \", Nodes_SIS)\n",
    "# # print(\"Nodes_UAU: \", Nodes_UAU)"
   ]
  },
  {
   "cell_type": "code",
   "execution_count": 7,
   "metadata": {},
   "outputs": [],
   "source": [
    "# 处理数据\n",
    "for i in range(Monte_Carlo_loop):\n",
    "    awareness_count[i,:] = np.sum(Nodes_UAU[i,:,:], axis=1)\n",
    "    inactive_count[i,:] = np.sum((1-Node_Active[i,:,:]), axis=1)\n",
    "\n",
    "    for j in range(time_steps):\n",
    "        infective_count[i,j] = np.sum(Nodes_SIR[i, j, :] == 1)\n",
    "        immune_count[i,j] = np.sum(Nodes_SIR[i, j, :] == 2)\n",
    "        s_count[i,j] = np.sum(Nodes_SIR[i, j, :] == 0)\n",
    "\n",
    "infective_count_average = np.mean(infective_count, axis=0)\n",
    "immune_count_average = np.mean(immune_count, axis=0)\n",
    "s_count_average = np.mean(s_count, axis=0)\n",
    "awareness_count_average = np.mean(awareness_count, axis=0)\n",
    "inactive_count_average = np.mean(inactive_count, axis=0)\n",
    "\n",
    "assert s_count_average.shape == (time_steps,), \"s_count_average\\' size don\\'t match!\"\n",
    "assert infective_count_average.shape == (time_steps,), \"infective_count_average\\' size don\\'t match!\"\n",
    "assert immune_count_average.shape == (time_steps,), \"immune_count_average\\' size don\\'t match!\"\n",
    "assert awareness_count_average.shape == (time_steps,), \"awareness_count_average\\' size don\\'t match!\"\n",
    "assert inactive_count_average.shape == (time_steps,), \"inactive_count_average\\' size don\\'t match!\"\n",
    "\n",
    "# print(\"infective_count_average: \", infective_count_average)\n",
    "# print(\"awareness_count_average: \", awareness_count_average)\n",
    "\n",
    "## 规模参照\n",
    "# Nodes_SIR = np.zeros([Monte_Carlo_loop, time_steps, N])\n",
    "# infective_count = np.zeros([Monte_Carlo_loop, time_steps])\n",
    "# infective_count_average = np.zeros([1, time_steps])"
   ]
  },
  {
   "cell_type": "code",
   "execution_count": 8,
   "metadata": {},
   "outputs": [
    {
     "data": {
      "text/plain": [
       "[<matplotlib.lines.Line2D at 0x2a6593d2588>]"
      ]
     },
     "execution_count": 8,
     "metadata": {},
     "output_type": "execute_result"
    },
    {
     "data": {
      "image/png": "[encoded data removed]",
      "text/plain": [
       "<Figure size 432x288 with 1 Axes>"
      ]
     },
     "metadata": {
      "needs_background": "light"
     },
     "output_type": "display_data"
    }
   ],
   "source": [
    "# 原始模型\n",
    "plt.plot(s_count_average/N, label='SIR-S')\n",
    "plt.plot(infective_count_average/N, label='SIR-I')\n",
    "plt.plot(immune_count_average/N, label='SIR-R')\n",
    "plt.plot(awareness_count_average/N, label='UAU')\n",
    "plt.plot(inactive_count_average/N, label='inactive')"
   ]
  },
  {
   "cell_type": "code",
   "execution_count": 8,
   "metadata": {
    "scrolled": true
   },
   "outputs": [
    {
     "data": {
      "text/plain": [
       "[<matplotlib.lines.Line2D at 0x14017d095c0>]"
      ]
     },
     "execution_count": 8,
     "metadata": {},
     "output_type": "execute_result"
    },
    {
     "data": {
      "image/png": "[encoded data removed]",
      "text/plain": [
       "<Figure size 432x288 with 1 Axes>"
      ]
     },
     "metadata": {
      "needs_background": "light"
     },
     "output_type": "display_data"
    }
   ],
   "source": [
    "# 采取策略\n",
    "plt.plot(s_count_average/N, label='SIR-S')\n",
    "plt.plot(infective_count_average/N, label='SIR-I')\n",
    "plt.plot(immune_count_average/N, label='SIR-R')\n",
    "plt.plot(awareness_count_average/N, label='UAU')\n",
    "plt.plot(inactive_count_average/N, label='inactive')"
   ]
  },
  {
   "cell_type": "code",
   "execution_count": null,
   "metadata": {},
   "outputs": [],
   "source": []
  },
  {
   "cell_type": "code",
   "execution_count": null,
   "metadata": {},
   "outputs": [],
   "source": [
    "# 数据可视化\n",
    "t = (1 : 1 : total_steps);\n",
    "\n",
    "# SIS统计\n",
    "plot(t,infective_count_average, '-o', 'color', 'y', 'linewidth', 1.2);\n",
    "hold on;\n",
    "\n",
    "# UAU统计\n",
    "plot(t, awareness_count_average, '-o', 'color', 'k', 'linewidth', 1.2);\n",
    "hold on;\n",
    "\n",
    "xlabel('steps');ylabel('density of nodes');\n",
    "legend('SIS_I(t)','UAU_I(t)');\n",
    "hold off;"
   ]
  },
  {
   "cell_type": "code",
   "execution_count": null,
   "metadata": {},
   "outputs": [],
   "source": [
    "import time\n",
    "\n",
    "print (\"time.time(): %f \" %time.time())\n",
    "\n",
    "time_start=time.time()\n",
    "time.sleep(1)\n",
    "time_end=time.time()\n",
    "print('totally cost',time_end-time_start)"
   ]
  },
  {
   "cell_type": "code",
   "execution_count": null,
   "metadata": {},
   "outputs": [],
   "source": [
    "a = np.array([[1,2],[3,4],[5,6]])\n",
    "datasave = './results/result.mat'\n",
    "scio.savemat(datasave, {'A':a})\n",
    "data_1 = scio.loadmat(datasave)"
   ]
  },
  {
   "cell_type": "code",
   "execution_count": null,
   "metadata": {},
   "outputs": [],
   "source": []
  },
  {
   "cell_type": "code",
   "execution_count": null,
   "metadata": {},
   "outputs": [],
   "source": []
  }
 ],
 "metadata": {
  "kernelspec": {
   "display_name": "Python 3",
   "language": "python",
   "name": "python3"
  },
  "language_info": {
   "codemirror_mode": {
    "name": "ipython",
    "version": 3
   },
   "file_extension": ".py",
   "mimetype": "text/x-python",
   "name": "python",
   "nbconvert_exporter": "python",
   "pygments_lexer": "ipython3",
   "version": "3.6.8"
  }
 },
 "nbformat": 4,
 "nbformat_minor": 2
}
